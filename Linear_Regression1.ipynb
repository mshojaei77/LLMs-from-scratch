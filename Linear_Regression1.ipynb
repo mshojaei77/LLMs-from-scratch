{
  "nbformat": 4,
  "nbformat_minor": 0,
  "metadata": {
    "colab": {
      "provenance": [],
      "authorship_tag": "ABX9TyPFVhqeZki35fmKX/fxQH2u",
      "include_colab_link": true
    },
    "kernelspec": {
      "name": "python3",
      "display_name": "Python 3"
    },
    "language_info": {
      "name": "python"
    }
  },
  "cells": [
    {
      "cell_type": "markdown",
      "metadata": {
        "id": "view-in-github",
        "colab_type": "text"
      },
      "source": [
        "<a href=\"https://colab.research.google.com/github/mshojaei77/ML-Journey/blob/main/Linear_Regression1.ipynb\" target=\"_parent\"><img src=\"https://colab.research.google.com/assets/colab-badge.svg\" alt=\"Open In Colab\"/></a>"
      ]
    },
    {
      "cell_type": "markdown",
      "source": [
        "# Advanced Linear Regression Analysis with pandas, NumPy, and matplotlib: A Deep Dive into OpenAI's Growth Metrics\n",
        "\n",
        "In this tutorial, we will delve into a more complex and interesting scenario related to OpenAI, focusing on the relationship between research investment and the development of new AI models. We will use pandas for data manipulation, NumPy for numerical operations, and matplotlib for visualization, without relying on scikit-learn.\n",
        "\n",
        "## Step 1: Importing Libraries\n",
        "\n",
        "First, let's import the necessary libraries."
      ],
      "metadata": {
        "id": "EbUimGfbBRw-"
      }
    },
    {
      "cell_type": "code",
      "execution_count": 2,
      "metadata": {
        "id": "ssXTe21OBIW2"
      },
      "outputs": [],
      "source": [
        "!pip install -q pandas numpy matplotlib\n",
        "\n",
        "import pandas as pd\n",
        "import numpy as np\n",
        "import matplotlib.pyplot as plt"
      ]
    },
    {
      "cell_type": "markdown",
      "source": [
        "## Step 2: Loading Data\n",
        "\n",
        "For this example, we'll create a dataset that simulates the investment in research and the number of new AI models developed by OpenAI over several years.\n"
      ],
      "metadata": {
        "id": "b-2jsRBXGq5D"
      }
    },
    {
      "cell_type": "code",
      "source": [
        "# Creating a dataset simulating OpenAI's research investment and AI model development\n",
        "data = {\n",
        "    'ResearchInvestment': [10, 15, 20, 25, 30, 35, 40, 45, 50, 55],\n",
        "    'NewModels': [2, 3, 5, 7, 7, 7, 8, 8, 9, 10]\n",
        "}\n",
        "df = pd.DataFrame(data)\n",
        "df"
      ],
      "metadata": {
        "colab": {
          "base_uri": "https://localhost:8080/",
          "height": 363
        },
        "id": "O2ZK8WGUGHwT",
        "outputId": "216691b7-f2c9-45ef-cd82-8ce7b1049f7b"
      },
      "execution_count": 22,
      "outputs": [
        {
          "output_type": "execute_result",
          "data": {
            "text/plain": [
              "   ResearchInvestment  NewModels\n",
              "0                  10          2\n",
              "1                  15          3\n",
              "2                  20          5\n",
              "3                  25          7\n",
              "4                  30          7\n",
              "5                  35          7\n",
              "6                  40          8\n",
              "7                  45          8\n",
              "8                  50          9\n",
              "9                  55         10"
            ],
            "text/html": [
              "\n",
              "  <div id=\"df-67a92fd6-5a62-4357-9147-d553258677d8\" class=\"colab-df-container\">\n",
              "    <div>\n",
              "<style scoped>\n",
              "    .dataframe tbody tr th:only-of-type {\n",
              "        vertical-align: middle;\n",
              "    }\n",
              "\n",
              "    .dataframe tbody tr th {\n",
              "        vertical-align: top;\n",
              "    }\n",
              "\n",
              "    .dataframe thead th {\n",
              "        text-align: right;\n",
              "    }\n",
              "</style>\n",
              "<table border=\"1\" class=\"dataframe\">\n",
              "  <thead>\n",
              "    <tr style=\"text-align: right;\">\n",
              "      <th></th>\n",
              "      <th>ResearchInvestment</th>\n",
              "      <th>NewModels</th>\n",
              "    </tr>\n",
              "  </thead>\n",
              "  <tbody>\n",
              "    <tr>\n",
              "      <th>0</th>\n",
              "      <td>10</td>\n",
              "      <td>2</td>\n",
              "    </tr>\n",
              "    <tr>\n",
              "      <th>1</th>\n",
              "      <td>15</td>\n",
              "      <td>3</td>\n",
              "    </tr>\n",
              "    <tr>\n",
              "      <th>2</th>\n",
              "      <td>20</td>\n",
              "      <td>5</td>\n",
              "    </tr>\n",
              "    <tr>\n",
              "      <th>3</th>\n",
              "      <td>25</td>\n",
              "      <td>7</td>\n",
              "    </tr>\n",
              "    <tr>\n",
              "      <th>4</th>\n",
              "      <td>30</td>\n",
              "      <td>7</td>\n",
              "    </tr>\n",
              "    <tr>\n",
              "      <th>5</th>\n",
              "      <td>35</td>\n",
              "      <td>7</td>\n",
              "    </tr>\n",
              "    <tr>\n",
              "      <th>6</th>\n",
              "      <td>40</td>\n",
              "      <td>8</td>\n",
              "    </tr>\n",
              "    <tr>\n",
              "      <th>7</th>\n",
              "      <td>45</td>\n",
              "      <td>8</td>\n",
              "    </tr>\n",
              "    <tr>\n",
              "      <th>8</th>\n",
              "      <td>50</td>\n",
              "      <td>9</td>\n",
              "    </tr>\n",
              "    <tr>\n",
              "      <th>9</th>\n",
              "      <td>55</td>\n",
              "      <td>10</td>\n",
              "    </tr>\n",
              "  </tbody>\n",
              "</table>\n",
              "</div>\n",
              "    <div class=\"colab-df-buttons\">\n",
              "\n",
              "  <div class=\"colab-df-container\">\n",
              "    <button class=\"colab-df-convert\" onclick=\"convertToInteractive('df-67a92fd6-5a62-4357-9147-d553258677d8')\"\n",
              "            title=\"Convert this dataframe to an interactive table.\"\n",
              "            style=\"display:none;\">\n",
              "\n",
              "  <svg xmlns=\"http://www.w3.org/2000/svg\" height=\"24px\" viewBox=\"0 -960 960 960\">\n",
              "    <path d=\"M120-120v-720h720v720H120Zm60-500h600v-160H180v160Zm220 220h160v-160H400v160Zm0 220h160v-160H400v160ZM180-400h160v-160H180v160Zm440 0h160v-160H620v160ZM180-180h160v-160H180v160Zm440 0h160v-160H620v160Z\"/>\n",
              "  </svg>\n",
              "    </button>\n",
              "\n",
              "  <style>\n",
              "    .colab-df-container {\n",
              "      display:flex;\n",
              "      gap: 12px;\n",
              "    }\n",
              "\n",
              "    .colab-df-convert {\n",
              "      background-color: #E8F0FE;\n",
              "      border: none;\n",
              "      border-radius: 50%;\n",
              "      cursor: pointer;\n",
              "      display: none;\n",
              "      fill: #1967D2;\n",
              "      height: 32px;\n",
              "      padding: 0 0 0 0;\n",
              "      width: 32px;\n",
              "    }\n",
              "\n",
              "    .colab-df-convert:hover {\n",
              "      background-color: #E2EBFA;\n",
              "      box-shadow: 0px 1px 2px rgba(60, 64, 67, 0.3), 0px 1px 3px 1px rgba(60, 64, 67, 0.15);\n",
              "      fill: #174EA6;\n",
              "    }\n",
              "\n",
              "    .colab-df-buttons div {\n",
              "      margin-bottom: 4px;\n",
              "    }\n",
              "\n",
              "    [theme=dark] .colab-df-convert {\n",
              "      background-color: #3B4455;\n",
              "      fill: #D2E3FC;\n",
              "    }\n",
              "\n",
              "    [theme=dark] .colab-df-convert:hover {\n",
              "      background-color: #434B5C;\n",
              "      box-shadow: 0px 1px 3px 1px rgba(0, 0, 0, 0.15);\n",
              "      filter: drop-shadow(0px 1px 2px rgba(0, 0, 0, 0.3));\n",
              "      fill: #FFFFFF;\n",
              "    }\n",
              "  </style>\n",
              "\n",
              "    <script>\n",
              "      const buttonEl =\n",
              "        document.querySelector('#df-67a92fd6-5a62-4357-9147-d553258677d8 button.colab-df-convert');\n",
              "      buttonEl.style.display =\n",
              "        google.colab.kernel.accessAllowed ? 'block' : 'none';\n",
              "\n",
              "      async function convertToInteractive(key) {\n",
              "        const element = document.querySelector('#df-67a92fd6-5a62-4357-9147-d553258677d8');\n",
              "        const dataTable =\n",
              "          await google.colab.kernel.invokeFunction('convertToInteractive',\n",
              "                                                    [key], {});\n",
              "        if (!dataTable) return;\n",
              "\n",
              "        const docLinkHtml = 'Like what you see? Visit the ' +\n",
              "          '<a target=\"_blank\" href=https://colab.research.google.com/notebooks/data_table.ipynb>data table notebook</a>'\n",
              "          + ' to learn more about interactive tables.';\n",
              "        element.innerHTML = '';\n",
              "        dataTable['output_type'] = 'display_data';\n",
              "        await google.colab.output.renderOutput(dataTable, element);\n",
              "        const docLink = document.createElement('div');\n",
              "        docLink.innerHTML = docLinkHtml;\n",
              "        element.appendChild(docLink);\n",
              "      }\n",
              "    </script>\n",
              "  </div>\n",
              "\n",
              "\n",
              "<div id=\"df-222e31b4-cf01-4535-87d2-71deaea30a78\">\n",
              "  <button class=\"colab-df-quickchart\" onclick=\"quickchart('df-222e31b4-cf01-4535-87d2-71deaea30a78')\"\n",
              "            title=\"Suggest charts\"\n",
              "            style=\"display:none;\">\n",
              "\n",
              "<svg xmlns=\"http://www.w3.org/2000/svg\" height=\"24px\"viewBox=\"0 0 24 24\"\n",
              "     width=\"24px\">\n",
              "    <g>\n",
              "        <path d=\"M19 3H5c-1.1 0-2 .9-2 2v14c0 1.1.9 2 2 2h14c1.1 0 2-.9 2-2V5c0-1.1-.9-2-2-2zM9 17H7v-7h2v7zm4 0h-2V7h2v10zm4 0h-2v-4h2v4z\"/>\n",
              "    </g>\n",
              "</svg>\n",
              "  </button>\n",
              "\n",
              "<style>\n",
              "  .colab-df-quickchart {\n",
              "      --bg-color: #E8F0FE;\n",
              "      --fill-color: #1967D2;\n",
              "      --hover-bg-color: #E2EBFA;\n",
              "      --hover-fill-color: #174EA6;\n",
              "      --disabled-fill-color: #AAA;\n",
              "      --disabled-bg-color: #DDD;\n",
              "  }\n",
              "\n",
              "  [theme=dark] .colab-df-quickchart {\n",
              "      --bg-color: #3B4455;\n",
              "      --fill-color: #D2E3FC;\n",
              "      --hover-bg-color: #434B5C;\n",
              "      --hover-fill-color: #FFFFFF;\n",
              "      --disabled-bg-color: #3B4455;\n",
              "      --disabled-fill-color: #666;\n",
              "  }\n",
              "\n",
              "  .colab-df-quickchart {\n",
              "    background-color: var(--bg-color);\n",
              "    border: none;\n",
              "    border-radius: 50%;\n",
              "    cursor: pointer;\n",
              "    display: none;\n",
              "    fill: var(--fill-color);\n",
              "    height: 32px;\n",
              "    padding: 0;\n",
              "    width: 32px;\n",
              "  }\n",
              "\n",
              "  .colab-df-quickchart:hover {\n",
              "    background-color: var(--hover-bg-color);\n",
              "    box-shadow: 0 1px 2px rgba(60, 64, 67, 0.3), 0 1px 3px 1px rgba(60, 64, 67, 0.15);\n",
              "    fill: var(--button-hover-fill-color);\n",
              "  }\n",
              "\n",
              "  .colab-df-quickchart-complete:disabled,\n",
              "  .colab-df-quickchart-complete:disabled:hover {\n",
              "    background-color: var(--disabled-bg-color);\n",
              "    fill: var(--disabled-fill-color);\n",
              "    box-shadow: none;\n",
              "  }\n",
              "\n",
              "  .colab-df-spinner {\n",
              "    border: 2px solid var(--fill-color);\n",
              "    border-color: transparent;\n",
              "    border-bottom-color: var(--fill-color);\n",
              "    animation:\n",
              "      spin 1s steps(1) infinite;\n",
              "  }\n",
              "\n",
              "  @keyframes spin {\n",
              "    0% {\n",
              "      border-color: transparent;\n",
              "      border-bottom-color: var(--fill-color);\n",
              "      border-left-color: var(--fill-color);\n",
              "    }\n",
              "    20% {\n",
              "      border-color: transparent;\n",
              "      border-left-color: var(--fill-color);\n",
              "      border-top-color: var(--fill-color);\n",
              "    }\n",
              "    30% {\n",
              "      border-color: transparent;\n",
              "      border-left-color: var(--fill-color);\n",
              "      border-top-color: var(--fill-color);\n",
              "      border-right-color: var(--fill-color);\n",
              "    }\n",
              "    40% {\n",
              "      border-color: transparent;\n",
              "      border-right-color: var(--fill-color);\n",
              "      border-top-color: var(--fill-color);\n",
              "    }\n",
              "    60% {\n",
              "      border-color: transparent;\n",
              "      border-right-color: var(--fill-color);\n",
              "    }\n",
              "    80% {\n",
              "      border-color: transparent;\n",
              "      border-right-color: var(--fill-color);\n",
              "      border-bottom-color: var(--fill-color);\n",
              "    }\n",
              "    90% {\n",
              "      border-color: transparent;\n",
              "      border-bottom-color: var(--fill-color);\n",
              "    }\n",
              "  }\n",
              "</style>\n",
              "\n",
              "  <script>\n",
              "    async function quickchart(key) {\n",
              "      const quickchartButtonEl =\n",
              "        document.querySelector('#' + key + ' button');\n",
              "      quickchartButtonEl.disabled = true;  // To prevent multiple clicks.\n",
              "      quickchartButtonEl.classList.add('colab-df-spinner');\n",
              "      try {\n",
              "        const charts = await google.colab.kernel.invokeFunction(\n",
              "            'suggestCharts', [key], {});\n",
              "      } catch (error) {\n",
              "        console.error('Error during call to suggestCharts:', error);\n",
              "      }\n",
              "      quickchartButtonEl.classList.remove('colab-df-spinner');\n",
              "      quickchartButtonEl.classList.add('colab-df-quickchart-complete');\n",
              "    }\n",
              "    (() => {\n",
              "      let quickchartButtonEl =\n",
              "        document.querySelector('#df-222e31b4-cf01-4535-87d2-71deaea30a78 button');\n",
              "      quickchartButtonEl.style.display =\n",
              "        google.colab.kernel.accessAllowed ? 'block' : 'none';\n",
              "    })();\n",
              "  </script>\n",
              "</div>\n",
              "\n",
              "  <div id=\"id_e08c9eb0-01fb-4e8e-9963-3792af824547\">\n",
              "    <style>\n",
              "      .colab-df-generate {\n",
              "        background-color: #E8F0FE;\n",
              "        border: none;\n",
              "        border-radius: 50%;\n",
              "        cursor: pointer;\n",
              "        display: none;\n",
              "        fill: #1967D2;\n",
              "        height: 32px;\n",
              "        padding: 0 0 0 0;\n",
              "        width: 32px;\n",
              "      }\n",
              "\n",
              "      .colab-df-generate:hover {\n",
              "        background-color: #E2EBFA;\n",
              "        box-shadow: 0px 1px 2px rgba(60, 64, 67, 0.3), 0px 1px 3px 1px rgba(60, 64, 67, 0.15);\n",
              "        fill: #174EA6;\n",
              "      }\n",
              "\n",
              "      [theme=dark] .colab-df-generate {\n",
              "        background-color: #3B4455;\n",
              "        fill: #D2E3FC;\n",
              "      }\n",
              "\n",
              "      [theme=dark] .colab-df-generate:hover {\n",
              "        background-color: #434B5C;\n",
              "        box-shadow: 0px 1px 3px 1px rgba(0, 0, 0, 0.15);\n",
              "        filter: drop-shadow(0px 1px 2px rgba(0, 0, 0, 0.3));\n",
              "        fill: #FFFFFF;\n",
              "      }\n",
              "    </style>\n",
              "    <button class=\"colab-df-generate\" onclick=\"generateWithVariable('df')\"\n",
              "            title=\"Generate code using this dataframe.\"\n",
              "            style=\"display:none;\">\n",
              "\n",
              "  <svg xmlns=\"http://www.w3.org/2000/svg\" height=\"24px\"viewBox=\"0 0 24 24\"\n",
              "       width=\"24px\">\n",
              "    <path d=\"M7,19H8.4L18.45,9,17,7.55,7,17.6ZM5,21V16.75L18.45,3.32a2,2,0,0,1,2.83,0l1.4,1.43a1.91,1.91,0,0,1,.58,1.4,1.91,1.91,0,0,1-.58,1.4L9.25,21ZM18.45,9,17,7.55Zm-12,3A5.31,5.31,0,0,0,4.9,8.1,5.31,5.31,0,0,0,1,6.5,5.31,5.31,0,0,0,4.9,4.9,5.31,5.31,0,0,0,6.5,1,5.31,5.31,0,0,0,8.1,4.9,5.31,5.31,0,0,0,12,6.5,5.46,5.46,0,0,0,6.5,12Z\"/>\n",
              "  </svg>\n",
              "    </button>\n",
              "    <script>\n",
              "      (() => {\n",
              "      const buttonEl =\n",
              "        document.querySelector('#id_e08c9eb0-01fb-4e8e-9963-3792af824547 button.colab-df-generate');\n",
              "      buttonEl.style.display =\n",
              "        google.colab.kernel.accessAllowed ? 'block' : 'none';\n",
              "\n",
              "      buttonEl.onclick = () => {\n",
              "        google.colab.notebook.generateWithVariable('df');\n",
              "      }\n",
              "      })();\n",
              "    </script>\n",
              "  </div>\n",
              "\n",
              "    </div>\n",
              "  </div>\n"
            ],
            "application/vnd.google.colaboratory.intrinsic+json": {
              "type": "dataframe",
              "variable_name": "df",
              "summary": "{\n  \"name\": \"df\",\n  \"rows\": 10,\n  \"fields\": [\n    {\n      \"column\": \"ResearchInvestment\",\n      \"properties\": {\n        \"dtype\": \"number\",\n        \"std\": 15,\n        \"min\": 10,\n        \"max\": 55,\n        \"num_unique_values\": 10,\n        \"samples\": [\n          50,\n          15,\n          35\n        ],\n        \"semantic_type\": \"\",\n        \"description\": \"\"\n      }\n    },\n    {\n      \"column\": \"NewModels\",\n      \"properties\": {\n        \"dtype\": \"number\",\n        \"std\": 2,\n        \"min\": 2,\n        \"max\": 10,\n        \"num_unique_values\": 7,\n        \"samples\": [\n          2,\n          3,\n          9\n        ],\n        \"semantic_type\": \"\",\n        \"description\": \"\"\n      }\n    }\n  ]\n}"
            }
          },
          "metadata": {},
          "execution_count": 22
        }
      ]
    },
    {
      "cell_type": "markdown",
      "source": [
        "# Step 3: Exploring Data\n",
        "Let's take a look at the data to understand its structure."
      ],
      "metadata": {
        "id": "VycPSHxcMvTW"
      }
    },
    {
      "source": [
        "df.plot(kind='scatter', x='ResearchInvestment', y='NewModels', s=32, alpha=.8)\n",
        "plt.gca().spines[['top', 'right',]].set_visible(False)"
      ],
      "cell_type": "code",
      "metadata": {
        "colab": {
          "base_uri": "https://localhost:8080/",
          "height": 449
        },
        "id": "o6WQhySYMerL",
        "outputId": "4439276e-cc68-4d6b-9f80-671775ccacb2"
      },
      "execution_count": 23,
      "outputs": [
        {
          "output_type": "display_data",
          "data": {
            "text/plain": [
              "<Figure size 640x480 with 1 Axes>"
            ],
            "image/png": "[encoded data removed]"
          },
          "metadata": {}
        }
      ]
    },
    {
      "cell_type": "markdown",
      "source": [
        "## Step 4: Preparing Data for Training\n",
        "\n",
        "We need to split our data into features (X) and the target variable (Y)."
      ],
      "metadata": {
        "id": "z8skWTWwIwrY"
      }
    },
    {
      "cell_type": "code",
      "source": [
        "X = df['ResearchInvestment'].values\n",
        "Y = df['NewModels'].values"
      ],
      "metadata": {
        "id": "mCwjD6dkIs_v"
      },
      "execution_count": 24,
      "outputs": []
    },
    {
      "cell_type": "markdown",
      "source": [
        "\n",
        "## Step 5: Calculating the Regression Coefficients\n",
        "\n",
        "We will calculate the slope (m) and the intercept (b) of the regression line using the formulas:\n",
        "\n",
        "![image.png](data:image/png;base64,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)"
      ],
      "metadata": {
        "id": "MsRrl33tI5Hw"
      }
    },
    {
      "cell_type": "code",
      "source": [
        "# Calculate the mean of X and Y\n",
        "X_mean = np.mean(X)\n",
        "Y_mean = np.mean(Y)\n",
        "print(f\"Mean of X: {X_mean}, Mean of Y: {Y_mean}\")\n",
        "\n",
        "# Calculate the coefficients\n",
        "numerator = np.sum((X - X_mean) * (Y - Y_mean))\n",
        "denominator = np.sum((X - X_mean) ** 2)\n",
        "m = numerator / denominator\n",
        "b = Y_mean - m * X_mean\n",
        "\n",
        "print(f\"Slope (m): {m}, Intercept (b): {b}\")"
      ],
      "metadata": {
        "colab": {
          "base_uri": "https://localhost:8080/"
        },
        "id": "EQQibV9TI8Jk",
        "outputId": "72bf9c95-785a-410e-8888-3f3cdaa0487e"
      },
      "execution_count": 25,
      "outputs": [
        {
          "output_type": "stream",
          "name": "stdout",
          "text": [
            "Mean of X: 32.5, Mean of Y: 6.6\n",
            "Slope (m): 0.16, Intercept (b): 1.3999999999999995\n"
          ]
        }
      ]
    },
    {
      "cell_type": "markdown",
      "source": [
        "## Step 6: Making Predictions\n",
        "\n",
        "With the coefficients calculated, we can now make predictions."
      ],
      "metadata": {
        "id": "-TTFkNdAMAv1"
      }
    },
    {
      "cell_type": "code",
      "source": [
        "Y_pred = m * X + b\n",
        "print(Y_pred)"
      ],
      "metadata": {
        "colab": {
          "base_uri": "https://localhost:8080/"
        },
        "id": "mAkPh2VGL88V",
        "outputId": "e6db394b-6084-42e4-dc1c-c739ca3d5900"
      },
      "execution_count": 26,
      "outputs": [
        {
          "output_type": "stream",
          "name": "stdout",
          "text": [
            "[ 3.   3.8  4.6  5.4  6.2  7.   7.8  8.6  9.4 10.2]\n"
          ]
        }
      ]
    },
    {
      "cell_type": "markdown",
      "source": [
        "\n",
        "## Step 7: Evaluating the Model\n",
        "\n",
        "We'll evaluate the model using Mean Squared Error (MSE)."
      ],
      "metadata": {
        "id": "HHWvuWm0NL0b"
      }
    },
    {
      "cell_type": "code",
      "source": [
        "mse = np.mean((Y - Y_pred) ** 2)\n",
        "print(f'Mean Squared Error: {mse}')"
      ],
      "metadata": {
        "colab": {
          "base_uri": "https://localhost:8080/"
        },
        "id": "K78dBReDNN9k",
        "outputId": "d4fb72a2-751c-46eb-c529-9b4571a62c15"
      },
      "execution_count": 27,
      "outputs": [
        {
          "output_type": "stream",
          "name": "stdout",
          "text": [
            "Mean Squared Error: 0.56\n"
          ]
        }
      ]
    },
    {
      "cell_type": "markdown",
      "source": [
        "## Step 8: Visualizing the Results\n",
        "\n",
        "Finally, let's visualize the regression line along with the data points."
      ],
      "metadata": {
        "id": "teW-HfI7NR1F"
      }
    },
    {
      "cell_type": "code",
      "source": [
        "plt.scatter(X, Y, color='blue', label='Data points')\n",
        "plt.plot(X, Y_pred, color='red', label='Regression line')\n",
        "plt.xlabel('Research Investment (in millions)')\n",
        "plt.ylabel('Number of New AI Models')\n",
        "plt.legend()\n",
        "plt.show()"
      ],
      "metadata": {
        "colab": {
          "base_uri": "https://localhost:8080/",
          "height": 449
        },
        "id": "Xqs5WrhINUeE",
        "outputId": "7a01a0b5-3f84-4fd9-b01b-8d1a2fc737c4"
      },
      "execution_count": 28,
      "outputs": [
        {
          "output_type": "display_data",
          "data": {
            "text/plain": [
              "<Figure size 640x480 with 1 Axes>"
            ],
            "image/png": "[encoded data removed]"
          },
          "metadata": {}
        }
      ]
    },
    {
      "cell_type": "markdown",
      "source": [
        "## Conclusion\n",
        "\n",
        "In this tutorial, we explored a more complex scenario related to OpenAI, focusing on the relationship between research investment and the development of new AI models. We used pandas, NumPy, and matplotlib to perform simple linear regression without relying on scikit-learn. This analysis can provide valuable insights into the impact of research investment on AI model development, guiding strategic decision-making within the company."
      ],
      "metadata": {
        "id": "p3Wja5sSNcN-"
      }
    }
  ]
}